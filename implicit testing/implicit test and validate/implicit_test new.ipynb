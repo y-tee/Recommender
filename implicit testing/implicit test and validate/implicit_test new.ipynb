{
 "cells": [
  {
   "cell_type": "code",
   "execution_count": 2,
   "metadata": {},
   "outputs": [],
   "source": [
    "import sys\n",
    "import pandas as pd\n",
    "import numpy as np\n",
    "import scipy.sparse as sparse\n",
    "from scipy.sparse.linalg import spsolve\n",
    "import random\n",
    "\n",
    "from sklearn.preprocessing import MinMaxScaler\n",
    "from sklearn.model_selection import train_test_split\n",
    "from sklearn import metrics\n",
    "import implicit"
   ]
  },
  {
   "cell_type": "code",
   "execution_count": 3,
   "metadata": {},
   "outputs": [],
   "source": [
    "def def_train_test_split(ratings, split_count, fraction=None):\n",
    "    \"\"\"\n",
    "    Split recommendation data into train and test sets\n",
    "    \n",
    "    Params\n",
    "    ------\n",
    "    ratings : scipy.sparse matrix\n",
    "        Interactions between users and items.\n",
    "    split_count : int\n",
    "        Number of user-item-interactions per user to move\n",
    "        from training to test set.\n",
    "    fractions : float\n",
    "        Fraction of users to split off some of their\n",
    "        interactions into test set. If None, then all \n",
    "        users are considered.\n",
    "    \"\"\"\n",
    "    # Note: likely not the fastest way to do things below.\n",
    "    train = ratings.copy().tocoo()\n",
    "    test = sparse.lil_matrix(train.shape)\n",
    "    k=3\n",
    "    if fraction:\n",
    "        try:\n",
    "            user_index = np.random.choice(\n",
    "                np.where(np.bincount(train.row) >= split_count * 2)[0], \n",
    "                replace=False,\n",
    "                size=np.int32(np.floor(fraction * train.shape[0]))\n",
    "            ).tolist()\n",
    "        except:\n",
    "            print(('Not enough users with > {} '\n",
    "                  'interactions for fraction of {}')\\\n",
    "                  .format(2* k, fraction))\n",
    "            raise\n",
    "    else:\n",
    "        user_index = range(train.shape[0])\n",
    "        \n",
    "    train = train.tolil()\n",
    "\n",
    "    for user in user_index:\n",
    "        test_ratings = np.random.choice(ratings.getrow(user).indices, \n",
    "                                        size=split_count, \n",
    "                                        replace=False)\n",
    "        \n",
    "        train[user, test_ratings] = 0.\n",
    "        # These are just 1.0 right now\n",
    "        test[user, test_ratings] = ratings[user, test_ratings]\n",
    "   \n",
    "    \n",
    "    # Test and training are truly disjoint\n",
    "    assert(train.multiply(test).nnz == 0)\n",
    "    return train.tocsr(), test.tocsr(), user_index"
   ]
  },
  {
   "cell_type": "code",
   "execution_count": 4,
   "metadata": {},
   "outputs": [],
   "source": [
    "raw_data = pd.read_csv('C:/Users/Yingting L/Desktop/recommender/SVD implicit/356365.csv')\n",
    "#raw_data = raw_data.drop(raw_data.columns[1], axis=1)\n",
    "#raw_data.columns = ['user', 'st', 'count']\n",
    "\n",
    "# Drop NaN columns\n",
    "#data = raw_data.dropna()\n",
    "original = sparse.csr_matrix((raw_data['srcount'].astype(float), (raw_data['user_id'], raw_data['service_type_id'])))\n",
    "# original = sparse.csr_matrix((raw_data['srcount'].astype(float), (raw_data['service_type_id'], raw_data['user_id'])))\n",
    "user_train, user_test, user=def_train_test_split(original,1,fraction=0.1)"
   ]
  },
  {
   "cell_type": "code",
   "execution_count": 5,
   "metadata": {},
   "outputs": [],
   "source": [
    "#rotate matrix need to work on (transpose)\n",
    "rotate_train=user_train.transpose()\n",
    "rotate_test=user_test.transpose()"
   ]
  },
  {
   "cell_type": "code",
   "execution_count": 10,
   "metadata": {},
   "outputs": [
    {
     "data": {
      "text/plain": [
       "<670x459368 sparse matrix of type '<class 'numpy.float64'>'\n",
       "\twith 264878 stored elements in Compressed Sparse Column format>"
      ]
     },
     "execution_count": 10,
     "metadata": {},
     "output_type": "execute_result"
    }
   ],
   "source": [
    "rotate_train"
   ]
  },
  {
   "cell_type": "code",
   "execution_count": 11,
   "metadata": {},
   "outputs": [
    {
     "name": "stderr",
     "output_type": "stream",
     "text": [
      "WARNING:root:Intel MKL BLAS detected. Its highly recommend to set the environment variable 'export MKL_NUM_THREADS=1' to disable its internal multithreading\n"
     ]
    }
   ],
   "source": [
    "model = implicit.als.AlternatingLeastSquares(factors=20, regularization=0.1, iterations=20)\n",
    "alpha_val = 15\n",
    "data_conf = (rotate_train * alpha_val).astype('double')"
   ]
  },
  {
   "cell_type": "code",
   "execution_count": 12,
   "metadata": {},
   "outputs": [
    {
     "name": "stderr",
     "output_type": "stream",
     "text": [
      "100%|██████████| 20.0/20 [00:05<00:00,  2.55it/s]\n"
     ]
    }
   ],
   "source": [
    "model.fit(data_conf)"
   ]
  },
  {
   "cell_type": "code",
   "execution_count": 13,
   "metadata": {},
   "outputs": [],
   "source": [
    "u=[]\n",
    "st=[]\n",
    "rec_list=[]\n",
    "rec_st=[]\n",
    "user_hit=[]\n",
    "\n",
    "# users_id=data_test[\"user_id\"]\n",
    "# u=data_test[\"user_id\"]\n",
    "\n",
    "u=user\n",
    "# u=[5556]\n",
    "\n",
    "for item in u:\n",
    "#     hit_count=0 \n",
    "    rec=model.recommend(item,user_test,N=3)\n",
    "    st_only=[i[0] for i in rec]\n",
    "    rec_st.append(st_only)\n",
    "    rec_list.append(rec)\n",
    "    ser_types=raw_data[raw_data[\"user_id\"]==item]\n",
    "    st.append(ser_types[\"service_type_id\"].tolist())\n",
    "    "
   ]
  },
  {
   "cell_type": "code",
   "execution_count": 13,
   "metadata": {},
   "outputs": [],
   "source": [
    "# i=0\n",
    "# while i<=len(rec_st)-1:\n",
    "#     item1=rec_st[i]\n",
    "\n",
    "#     for item2 in rec_st:\n",
    "#         if item1==item2:\n",
    "#             hit_count=hit_count+1\n",
    "#     i=i+1\n",
    "# user_hit.append(u,hit_count)\n",
    "    \n",
    "    "
   ]
  },
  {
   "cell_type": "code",
   "execution_count": 21,
   "metadata": {},
   "outputs": [
    {
     "data": {
      "text/plain": [
       "45936"
      ]
     },
     "execution_count": 21,
     "metadata": {},
     "output_type": "execute_result"
    }
   ],
   "source": [
    "len(user)"
   ]
  },
  {
   "cell_type": "code",
   "execution_count": null,
   "metadata": {},
   "outputs": [],
   "source": [
    "len(u)"
   ]
  },
  {
   "cell_type": "code",
   "execution_count": null,
   "metadata": {},
   "outputs": [],
   "source": []
  }
 ],
 "metadata": {
  "kernelspec": {
   "display_name": "Python 3",
   "language": "python",
   "name": "python3"
  },
  "language_info": {
   "codemirror_mode": {
    "name": "ipython",
    "version": 3
   },
   "file_extension": ".py",
   "mimetype": "text/x-python",
   "name": "python",
   "nbconvert_exporter": "python",
   "pygments_lexer": "ipython3",
   "version": "3.6.5"
  }
 },
 "nbformat": 4,
 "nbformat_minor": 2
}
